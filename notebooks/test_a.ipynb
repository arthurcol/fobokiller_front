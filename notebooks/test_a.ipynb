{
 "cells": [
  {
   "cell_type": "code",
   "execution_count": 1,
   "id": "2cf881d6",
   "metadata": {
    "ExecuteTime": {
     "end_time": "2021-11-30T07:54:23.018407Z",
     "start_time": "2021-11-30T07:54:23.013699Z"
    }
   },
   "outputs": [],
   "source": [
    "import pandas as pd\n",
    "import numpy as np\n",
    "import base64\n",
    "import streamlit as st\n",
    "import altair as alt\n",
    "import folium\n",
    "from branca.colormap import linear, LinearColormap\n",
    "#from geopy.geocoders import Nominatim\n",
    "import requests\n",
    "import time\n",
    "import os\n",
    "import folium\n",
    "from streamlit_folium import folium_static\n"
   ]
  },
  {
   "cell_type": "code",
   "execution_count": 23,
   "id": "60c8643c",
   "metadata": {
    "ExecuteTime": {
     "end_time": "2021-11-30T08:02:49.692277Z",
     "start_time": "2021-11-30T08:02:49.688712Z"
    }
   },
   "outputs": [],
   "source": [
    "url_api = 'https://api3-2rnijzpfva-ew.a.run.app/summary_reviews?'\n",
    "url_detail='https://api3-2rnijzpfva-ew.a.run.app/details?alias='"
   ]
  },
  {
   "cell_type": "code",
   "execution_count": 6,
   "id": "ef8be993",
   "metadata": {
    "ExecuteTime": {
     "end_time": "2021-11-30T07:56:39.747546Z",
     "start_time": "2021-11-30T07:56:39.744415Z"
    }
   },
   "outputs": [],
   "source": [
    "query_food='I want to eat a pizza in a musical place'\n",
    "nb=10"
   ]
  },
  {
   "cell_type": "code",
   "execution_count": 7,
   "id": "06f0c524",
   "metadata": {
    "ExecuteTime": {
     "end_time": "2021-11-30T07:58:07.631574Z",
     "start_time": "2021-11-30T07:56:39.944851Z"
    }
   },
   "outputs": [],
   "source": [
    "params={'text':query_food,\n",
    "        'n_best':nb,\n",
    "        'min_review':10}\n",
    "result = requests.get(url_api, params=params).json()\n"
   ]
  },
  {
   "cell_type": "code",
   "execution_count": 13,
   "id": "f2f2a89f",
   "metadata": {
    "ExecuteTime": {
     "end_time": "2021-11-30T07:58:33.911970Z",
     "start_time": "2021-11-30T07:58:33.907937Z"
    }
   },
   "outputs": [],
   "source": [
    "aliases = list(result['reviews'].keys())\n",
    "params_details={'alias':alias for alias in aliases }"
   ]
  },
  {
   "cell_type": "code",
   "execution_count": 31,
   "id": "5b797b59",
   "metadata": {
    "ExecuteTime": {
     "end_time": "2021-11-30T08:04:00.319937Z",
     "start_time": "2021-11-30T08:04:00.314924Z"
    }
   },
   "outputs": [
    {
     "data": {
      "text/plain": [
       "'https://api3-2rnijzpfva-ew.a.run.app/details?alias=del-papa-paris-4&alias=mokus-l-ecureuil-paris&alias=pizza-vesuvio-paris-3&alias=monteverdi-paris-2&alias=grazie-paris&alias=la-briciola-paris&alias=il-brigante-paris&alias=hank-paris-5&alias=pizza-julia-paris&alias=pizza-di-loretta-paris'"
      ]
     },
     "execution_count": 31,
     "metadata": {},
     "output_type": "execute_result"
    }
   ],
   "source": [
    "url_detail+'&alias='.join(aliases)"
   ]
  },
  {
   "cell_type": "code",
   "execution_count": 64,
   "id": "0c46bbb4",
   "metadata": {
    "ExecuteTime": {
     "end_time": "2021-11-30T08:17:59.129416Z",
     "start_time": "2021-11-30T08:17:58.883351Z"
    }
   },
   "outputs": [],
   "source": [
    "details=requests.get(url_detail+'&alias='.join(aliases))"
   ]
  },
  {
   "cell_type": "code",
   "execution_count": 67,
   "id": "305b0c0f",
   "metadata": {
    "ExecuteTime": {
     "end_time": "2021-11-30T08:18:11.196604Z",
     "start_time": "2021-11-30T08:18:11.190260Z"
    }
   },
   "outputs": [],
   "source": [
    "details_df = pd.DataFrame(details.json())\n",
    "details_df.set_index('alias',inplace=True)"
   ]
  },
  {
   "cell_type": "code",
   "execution_count": 68,
   "id": "f4e2cb2c",
   "metadata": {
    "ExecuteTime": {
     "end_time": "2021-11-30T08:18:11.313348Z",
     "start_time": "2021-11-30T08:18:11.309535Z"
    }
   },
   "outputs": [],
   "source": [
    "result_df = pd.DataFrame(result)"
   ]
  },
  {
   "cell_type": "code",
   "execution_count": 72,
   "id": "e1ed42cc",
   "metadata": {
    "ExecuteTime": {
     "end_time": "2021-11-30T08:19:39.067978Z",
     "start_time": "2021-11-30T08:19:39.027722Z"
    }
   },
   "outputs": [
    {
     "ename": "KeyError",
     "evalue": "2",
     "output_type": "error",
     "traceback": [
      "\u001b[0;31m---------------------------------------------------------------------------\u001b[0m",
      "\u001b[0;31mKeyError\u001b[0m                                  Traceback (most recent call last)",
      "\u001b[0;32m~/.pyenv/versions/3.8.12/envs/lewagon/lib/python3.8/site-packages/pandas/core/indexes/base.py\u001b[0m in \u001b[0;36mget_loc\u001b[0;34m(self, key, method, tolerance)\u001b[0m\n\u001b[1;32m   3360\u001b[0m             \u001b[0;32mtry\u001b[0m\u001b[0;34m:\u001b[0m\u001b[0;34m\u001b[0m\u001b[0;34m\u001b[0m\u001b[0m\n\u001b[0;32m-> 3361\u001b[0;31m                 \u001b[0;32mreturn\u001b[0m \u001b[0mself\u001b[0m\u001b[0;34m.\u001b[0m\u001b[0m_engine\u001b[0m\u001b[0;34m.\u001b[0m\u001b[0mget_loc\u001b[0m\u001b[0;34m(\u001b[0m\u001b[0mcasted_key\u001b[0m\u001b[0;34m)\u001b[0m\u001b[0;34m\u001b[0m\u001b[0;34m\u001b[0m\u001b[0m\n\u001b[0m\u001b[1;32m   3362\u001b[0m             \u001b[0;32mexcept\u001b[0m \u001b[0mKeyError\u001b[0m \u001b[0;32mas\u001b[0m \u001b[0merr\u001b[0m\u001b[0;34m:\u001b[0m\u001b[0;34m\u001b[0m\u001b[0;34m\u001b[0m\u001b[0m\n",
      "\u001b[0;32m~/.pyenv/versions/3.8.12/envs/lewagon/lib/python3.8/site-packages/pandas/_libs/index.pyx\u001b[0m in \u001b[0;36mpandas._libs.index.IndexEngine.get_loc\u001b[0;34m()\u001b[0m\n",
      "\u001b[0;32m~/.pyenv/versions/3.8.12/envs/lewagon/lib/python3.8/site-packages/pandas/_libs/index.pyx\u001b[0m in \u001b[0;36mpandas._libs.index.IndexEngine.get_loc\u001b[0;34m()\u001b[0m\n",
      "\u001b[0;32mpandas/_libs/hashtable_class_helper.pxi\u001b[0m in \u001b[0;36mpandas._libs.hashtable.PyObjectHashTable.get_item\u001b[0;34m()\u001b[0m\n",
      "\u001b[0;32mpandas/_libs/hashtable_class_helper.pxi\u001b[0m in \u001b[0;36mpandas._libs.hashtable.PyObjectHashTable.get_item\u001b[0;34m()\u001b[0m\n",
      "\u001b[0;31mKeyError\u001b[0m: 2",
      "\nThe above exception was the direct cause of the following exception:\n",
      "\u001b[0;31mKeyError\u001b[0m                                  Traceback (most recent call last)",
      "\u001b[0;32m/var/folders/zd/9ts3jb2s5472mty2sgdddp3m0000gn/T/ipykernel_11981/3091506479.py\u001b[0m in \u001b[0;36m<module>\u001b[0;34m\u001b[0m\n\u001b[0;32m----> 1\u001b[0;31m \u001b[0mresult_df\u001b[0m\u001b[0;34m[\u001b[0m\u001b[0;36m2\u001b[0m\u001b[0;34m]\u001b[0m\u001b[0;34m\u001b[0m\u001b[0;34m\u001b[0m\u001b[0m\n\u001b[0m",
      "\u001b[0;32m~/.pyenv/versions/3.8.12/envs/lewagon/lib/python3.8/site-packages/pandas/core/frame.py\u001b[0m in \u001b[0;36m__getitem__\u001b[0;34m(self, key)\u001b[0m\n\u001b[1;32m   3456\u001b[0m             \u001b[0;32mif\u001b[0m \u001b[0mself\u001b[0m\u001b[0;34m.\u001b[0m\u001b[0mcolumns\u001b[0m\u001b[0;34m.\u001b[0m\u001b[0mnlevels\u001b[0m \u001b[0;34m>\u001b[0m \u001b[0;36m1\u001b[0m\u001b[0;34m:\u001b[0m\u001b[0;34m\u001b[0m\u001b[0;34m\u001b[0m\u001b[0m\n\u001b[1;32m   3457\u001b[0m                 \u001b[0;32mreturn\u001b[0m \u001b[0mself\u001b[0m\u001b[0;34m.\u001b[0m\u001b[0m_getitem_multilevel\u001b[0m\u001b[0;34m(\u001b[0m\u001b[0mkey\u001b[0m\u001b[0;34m)\u001b[0m\u001b[0;34m\u001b[0m\u001b[0;34m\u001b[0m\u001b[0m\n\u001b[0;32m-> 3458\u001b[0;31m             \u001b[0mindexer\u001b[0m \u001b[0;34m=\u001b[0m \u001b[0mself\u001b[0m\u001b[0;34m.\u001b[0m\u001b[0mcolumns\u001b[0m\u001b[0;34m.\u001b[0m\u001b[0mget_loc\u001b[0m\u001b[0;34m(\u001b[0m\u001b[0mkey\u001b[0m\u001b[0;34m)\u001b[0m\u001b[0;34m\u001b[0m\u001b[0;34m\u001b[0m\u001b[0m\n\u001b[0m\u001b[1;32m   3459\u001b[0m             \u001b[0;32mif\u001b[0m \u001b[0mis_integer\u001b[0m\u001b[0;34m(\u001b[0m\u001b[0mindexer\u001b[0m\u001b[0;34m)\u001b[0m\u001b[0;34m:\u001b[0m\u001b[0;34m\u001b[0m\u001b[0;34m\u001b[0m\u001b[0m\n\u001b[1;32m   3460\u001b[0m                 \u001b[0mindexer\u001b[0m \u001b[0;34m=\u001b[0m \u001b[0;34m[\u001b[0m\u001b[0mindexer\u001b[0m\u001b[0;34m]\u001b[0m\u001b[0;34m\u001b[0m\u001b[0;34m\u001b[0m\u001b[0m\n",
      "\u001b[0;32m~/.pyenv/versions/3.8.12/envs/lewagon/lib/python3.8/site-packages/pandas/core/indexes/base.py\u001b[0m in \u001b[0;36mget_loc\u001b[0;34m(self, key, method, tolerance)\u001b[0m\n\u001b[1;32m   3361\u001b[0m                 \u001b[0;32mreturn\u001b[0m \u001b[0mself\u001b[0m\u001b[0;34m.\u001b[0m\u001b[0m_engine\u001b[0m\u001b[0;34m.\u001b[0m\u001b[0mget_loc\u001b[0m\u001b[0;34m(\u001b[0m\u001b[0mcasted_key\u001b[0m\u001b[0;34m)\u001b[0m\u001b[0;34m\u001b[0m\u001b[0;34m\u001b[0m\u001b[0m\n\u001b[1;32m   3362\u001b[0m             \u001b[0;32mexcept\u001b[0m \u001b[0mKeyError\u001b[0m \u001b[0;32mas\u001b[0m \u001b[0merr\u001b[0m\u001b[0;34m:\u001b[0m\u001b[0;34m\u001b[0m\u001b[0;34m\u001b[0m\u001b[0m\n\u001b[0;32m-> 3363\u001b[0;31m                 \u001b[0;32mraise\u001b[0m \u001b[0mKeyError\u001b[0m\u001b[0;34m(\u001b[0m\u001b[0mkey\u001b[0m\u001b[0;34m)\u001b[0m \u001b[0;32mfrom\u001b[0m \u001b[0merr\u001b[0m\u001b[0;34m\u001b[0m\u001b[0;34m\u001b[0m\u001b[0m\n\u001b[0m\u001b[1;32m   3364\u001b[0m \u001b[0;34m\u001b[0m\u001b[0m\n\u001b[1;32m   3365\u001b[0m         \u001b[0;32mif\u001b[0m \u001b[0mis_scalar\u001b[0m\u001b[0;34m(\u001b[0m\u001b[0mkey\u001b[0m\u001b[0;34m)\u001b[0m \u001b[0;32mand\u001b[0m \u001b[0misna\u001b[0m\u001b[0;34m(\u001b[0m\u001b[0mkey\u001b[0m\u001b[0;34m)\u001b[0m \u001b[0;32mand\u001b[0m \u001b[0;32mnot\u001b[0m \u001b[0mself\u001b[0m\u001b[0;34m.\u001b[0m\u001b[0mhasnans\u001b[0m\u001b[0;34m:\u001b[0m\u001b[0;34m\u001b[0m\u001b[0;34m\u001b[0m\u001b[0m\n",
      "\u001b[0;31mKeyError\u001b[0m: 2"
     ]
    }
   ],
   "source": [
    "result_df[2]"
   ]
  },
  {
   "cell_type": "code",
   "execution_count": 70,
   "id": "072ba505",
   "metadata": {
    "ExecuteTime": {
     "end_time": "2021-11-30T08:18:11.622110Z",
     "start_time": "2021-11-30T08:18:11.612111Z"
    }
   },
   "outputs": [],
   "source": [
    "df = result_df.join(details_df)"
   ]
  },
  {
   "cell_type": "code",
   "execution_count": 77,
   "id": "171b56c7",
   "metadata": {
    "ExecuteTime": {
     "end_time": "2021-11-30T08:20:22.054648Z",
     "start_time": "2021-11-30T08:20:22.049847Z"
    }
   },
   "outputs": [
    {
     "name": "stdout",
     "output_type": "stream",
     "text": [
      "del-papa-paris-4\n",
      "mokus-l-ecureuil-paris\n",
      "pizza-vesuvio-paris-3\n",
      "monteverdi-paris-2\n",
      "grazie-paris\n",
      "la-briciola-paris\n",
      "il-brigante-paris\n",
      "hank-paris-5\n",
      "pizza-julia-paris\n",
      "pizza-di-loretta-paris\n"
     ]
    }
   ],
   "source": [
    "for alias in result_df.index:\n",
    "    print(alias)"
   ]
  },
  {
   "cell_type": "code",
   "execution_count": 78,
   "id": "0de9b712",
   "metadata": {
    "ExecuteTime": {
     "end_time": "2021-11-30T08:22:55.567547Z",
     "start_time": "2021-11-30T08:22:55.543433Z"
    }
   },
   "outputs": [
    {
     "data": {
      "text/html": [
       "<div>\n",
       "<style scoped>\n",
       "    .dataframe tbody tr th:only-of-type {\n",
       "        vertical-align: middle;\n",
       "    }\n",
       "\n",
       "    .dataframe tbody tr th {\n",
       "        vertical-align: top;\n",
       "    }\n",
       "\n",
       "    .dataframe thead th {\n",
       "        text-align: right;\n",
       "    }\n",
       "</style>\n",
       "<table border=\"1\" class=\"dataframe\">\n",
       "  <thead>\n",
       "    <tr style=\"text-align: right;\">\n",
       "      <th></th>\n",
       "      <th>reviews</th>\n",
       "      <th>nb_sentences</th>\n",
       "      <th>nb_review</th>\n",
       "      <th>metric sim_ratio</th>\n",
       "      <th>sentences_pond</th>\n",
       "      <th>metric_pond</th>\n",
       "    </tr>\n",
       "  </thead>\n",
       "  <tbody>\n",
       "    <tr>\n",
       "      <th>del-papa-paris-4</th>\n",
       "      <td>[very good italian restaurant near ternes. fam...</td>\n",
       "      <td>66</td>\n",
       "      <td>14.0</td>\n",
       "      <td>0.242747</td>\n",
       "      <td>0.034519</td>\n",
       "      <td>0.008379</td>\n",
       "    </tr>\n",
       "    <tr>\n",
       "      <th>mokus-l-ecureuil-paris</th>\n",
       "      <td>[the pizza was amazing!!! the chef mateo was s...</td>\n",
       "      <td>331</td>\n",
       "      <td>50.0</td>\n",
       "      <td>0.244358</td>\n",
       "      <td>0.173117</td>\n",
       "      <td>0.042303</td>\n",
       "    </tr>\n",
       "    <tr>\n",
       "      <th>pizza-vesuvio-paris-3</th>\n",
       "      <td>[pizza vesuvio was good in a pinch. my family ...</td>\n",
       "      <td>125</td>\n",
       "      <td>17.0</td>\n",
       "      <td>0.244635</td>\n",
       "      <td>0.065377</td>\n",
       "      <td>0.015993</td>\n",
       "    </tr>\n",
       "    <tr>\n",
       "      <th>monteverdi-paris-2</th>\n",
       "      <td>[amazing!!! the food...the owner...the servers...</td>\n",
       "      <td>90</td>\n",
       "      <td>16.0</td>\n",
       "      <td>0.245584</td>\n",
       "      <td>0.047071</td>\n",
       "      <td>0.011560</td>\n",
       "    </tr>\n",
       "    <tr>\n",
       "      <th>grazie-paris</th>\n",
       "      <td>[grazie was a dark, funky, fun little pizza jo...</td>\n",
       "      <td>226</td>\n",
       "      <td>33.0</td>\n",
       "      <td>0.245957</td>\n",
       "      <td>0.118201</td>\n",
       "      <td>0.029072</td>\n",
       "    </tr>\n",
       "  </tbody>\n",
       "</table>\n",
       "</div>"
      ],
      "text/plain": [
       "                                                                  reviews  ...  metric_pond\n",
       "del-papa-paris-4        [very good italian restaurant near ternes. fam...  ...     0.008379\n",
       "mokus-l-ecureuil-paris  [the pizza was amazing!!! the chef mateo was s...  ...     0.042303\n",
       "pizza-vesuvio-paris-3   [pizza vesuvio was good in a pinch. my family ...  ...     0.015993\n",
       "monteverdi-paris-2      [amazing!!! the food...the owner...the servers...  ...     0.011560\n",
       "grazie-paris            [grazie was a dark, funky, fun little pizza jo...  ...     0.029072\n",
       "\n",
       "[5 rows x 6 columns]"
      ]
     },
     "execution_count": 78,
     "metadata": {},
     "output_type": "execute_result"
    }
   ],
   "source": [
    "result_df.head()"
   ]
  },
  {
   "cell_type": "code",
   "execution_count": null,
   "id": "7fd25949",
   "metadata": {},
   "outputs": [],
   "source": []
  }
 ],
 "metadata": {
  "kernelspec": {
   "display_name": "Python 3 (ipykernel)",
   "language": "python",
   "name": "python3"
  },
  "language_info": {
   "codemirror_mode": {
    "name": "ipython",
    "version": 3
   },
   "file_extension": ".py",
   "mimetype": "text/x-python",
   "name": "python",
   "nbconvert_exporter": "python",
   "pygments_lexer": "ipython3",
   "version": "3.8.12"
  }
 },
 "nbformat": 4,
 "nbformat_minor": 5
}
